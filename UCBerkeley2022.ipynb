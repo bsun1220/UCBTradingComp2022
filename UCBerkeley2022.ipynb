{
  "nbformat": 4,
  "nbformat_minor": 0,
  "metadata": {
    "colab": {
      "name": "UCBerkeley2022.ipynb",
      "provenance": [],
      "authorship_tag": "ABX9TyO/x9Ycg0vx8CZoAIXu40pj",
      "include_colab_link": true
    },
    "kernelspec": {
      "name": "python3",
      "display_name": "Python 3"
    },
    "language_info": {
      "name": "python"
    }
  },
  "cells": [
    {
      "cell_type": "markdown",
      "metadata": {
        "id": "view-in-github",
        "colab_type": "text"
      },
      "source": [
        "<a href=\"https://colab.research.google.com/github/bsun1220/UCBTradingComp2022/blob/main/UCBerkeley2022.ipynb\" target=\"_parent\"><img src=\"https://colab.research.google.com/assets/colab-badge.svg\" alt=\"Open In Colab\"/></a>"
      ]
    },
    {
      "cell_type": "code",
      "source": [
        "def naiveEV(seen_set, a, b, players):\n",
        "    unseen_set = set(range(a,b+1)) - seen_set\n",
        "    unknown_card_ev = sum(unseen_set)/len(unseen_set)\n",
        "    return len(seen_set) + unknown_card_ev*(players-len(seen_set))"
      ],
      "metadata": {
        "id": "vvPSKFeOBiqN"
      },
      "execution_count": 1,
      "outputs": []
    },
    {
      "cell_type": "code",
      "source": [
        ""
      ],
      "metadata": {
        "id": "9YVnyt5cBi-Z"
      },
      "execution_count": null,
      "outputs": []
    }
  ]
}